{
  "nbformat": 4,
  "nbformat_minor": 0,
  "metadata": {
    "colab": {
      "provenance": []
    },
    "kernelspec": {
      "name": "python3",
      "display_name": "Python 3"
    },
    "language_info": {
      "name": "python"
    }
  },
  "cells": [
    {
      "cell_type": "code",
      "execution_count": 1,
      "metadata": {
        "id": "Hs8twvCYuTGp"
      },
      "outputs": [],
      "source": [
        "import requests\n",
        "from bs4 import BeautifulSoup\n",
        "import pandas as pd\n",
        "from concurrent.futures import ThreadPoolExecutor\n",
        "\n",
        "def get_url(soup):\n",
        "    div_tags = soup.find_all(\"div\", class_=\"item\")\n",
        "    links = [div_tag.find(\"span\", class_=\"title\").find(\"a\")[\"href\"] for div_tag in div_tags]\n",
        "    return [\"https://news.rthk.hk\" + link for link in links]\n",
        "\n",
        "def news_extract(target_url):\n",
        "    news_response= session.get(target_url)\n",
        "    news_soup = BeautifulSoup(news_response.content, \"html.parser\")\n",
        "    news_title= news_soup.find(\"h2\", class_=\"itemTitle\").text.strip()\n",
        "    news_content= news_soup.find(\"div\",class_=\"itemFullText\").text.strip()\n",
        "    news_date= news_soup.find(\"div\",class_=\"createddate\").text.strip()\n",
        "    return {\"Title\": news_title, \"Content\": news_content, \"Date\": news_date}\n",
        "\n",
        "def check_empty(soup):\n",
        "    check_content= \"There is no News according to your request.\"\n",
        "    div_tags = soup.find_all(\"div\", class_=\"item\")\n",
        "    return any(div_tag.find(\"span\").text != check_content for div_tag in div_tags)\n",
        "\n",
        "session = requests.session()\n",
        "year = 2023\n",
        "news_data = []\n",
        "\n",
        "with ThreadPoolExecutor(max_workers=5) as executor:\n",
        "    for month in range(6,12):\n",
        "        for day in range(1,31):\n",
        "            archive_url= f\"https://news.rthk.hk/rthk/en/news-archive.htm?archive_year={year}&archive_month=0{month}&archive_day={day}&archive_cat=12\"\n",
        "            response = session.get(archive_url)\n",
        "            soup = BeautifulSoup(response.content, \"html.parser\")\n",
        "            if check_empty(soup):\n",
        "                news_urls = get_url(soup)\n",
        "                news_data.extend(executor.map(news_extract, news_urls))\n",
        "\n",
        "news_df = pd.DataFrame(news_data)\n",
        "news_df.to_csv(f\"{year}{month:02d}Financial News from RTHK.csv\")"
      ]
    }
  ]
}